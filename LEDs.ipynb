{
 "cells": [
  {
   "cell_type": "code",
   "execution_count": 10,
   "id": "667661f0-5f1e-45fe-beb1-e4c03a624ccd",
   "metadata": {},
   "outputs": [],
   "source": [
    "import board\n",
    "import neopixel\n",
    "from time import sleep"
   ]
  },
  {
   "cell_type": "code",
   "execution_count": 7,
   "id": "b1f376e7-57dd-439b-9c13-32653615820d",
   "metadata": {},
   "outputs": [],
   "source": [
    "TOTAL_NUM_LIGHTS = 150\n",
    "PIN = board.D18"
   ]
  },
  {
   "cell_type": "code",
   "execution_count": 79,
   "id": "7f0cd769-1f6f-44ad-8245-a9a0d74ff846",
   "metadata": {},
   "outputs": [],
   "source": [
    "def up_and_down():\n",
    "    # Initialisation:\n",
    "    pixels = neopixel.NeoPixel(PIN, TOTAL_NUM_LIGHTS)\n",
    "    pixels.fill((0, 0, 0))\n",
    "\n",
    "    # Loop:\n",
    "    MAX_BRIGHTNESS = 150    \n",
    "    for repeat in range(5):\n",
    "        for direction in [range(MAX_BRIGHTNESS), range(MAX_BRIGHTNESS, 0, -1)]:\n",
    "            for i in direction:\n",
    "                colour = (i, i, i)\n",
    "                pixels.fill(colour)\n",
    "\n",
    "    # Tidy ending:\n",
    "    pixels.fill((0, 0, 0))\n",
    "\n",
    "up_and_down()"
   ]
  },
  {
   "cell_type": "code",
   "execution_count": 123,
   "id": "673274ce-d117-41f5-b8c1-e4c4858b8950",
   "metadata": {},
   "outputs": [],
   "source": [
    "def moving():\n",
    "    # Initialisation:\n",
    "    pixels = neopixel.NeoPixel(PIN, TOTAL_NUM_LIGHTS, auto_write=False)\n",
    "    pixels.fill((0, 0, 0))\n",
    "    pixels.show()\n",
    "\n",
    "    # Loop:\n",
    "    for light in range(TOTAL_NUM_LIGHTS):\n",
    "        pixels.fill((0, 0, 0))\n",
    "        pixels[light] = (255, 0, 3)\n",
    "        pixels.show()\n",
    "        sleep(0.05)\n",
    "\n",
    "    # Tidy ending:\n",
    "    pixels.fill((0, 0, 0))\n",
    "\n",
    "moving()"
   ]
  },
  {
   "cell_type": "code",
   "execution_count": 104,
   "id": "b64f8af5-aa0a-49d5-bcb6-4e16bf3bf249",
   "metadata": {},
   "outputs": [],
   "source": [
    "def animate_arrow():\n",
    "    # Initialisation:\n",
    "    pixels = neopixel.NeoPixel(PIN, TOTAL_NUM_LIGHTS, auto_write=False)\n",
    "    pixels.fill((0, 0, 0))\n",
    "    pixels.show()\n",
    "\n",
    "    ARROW_START = 45\n",
    "    ARROW_HEAD_MIDDLE = 80\n",
    "    ARROW_END = 113\n",
    "\n",
    "    arrow_length = ARROW_HEAD_MIDDLE - ARROW_START\n",
    "    for i in range(arrow_length):\n",
    "        pixels.fill((0, 0, 0))\n",
    "        colour = (255, 0, 3)\n",
    "        STEP = 5\n",
    "        for repeat in range(2):\n",
    "            offset = STEP * repeat\n",
    "            \n",
    "            # Light moving forwards:\n",
    "            pixels[ARROW_START + i + offset] = colour\n",
    "\n",
    "            # Light moving \"backwards\":\n",
    "            pixels[ARROW_END - i - offset] = colour\n",
    "        pixels.show()\n",
    "        sleep(0.1)\n",
    "\n",
    "for _ in range(5):\n",
    "    animate_arrow()"
   ]
  },
  {
   "cell_type": "code",
   "execution_count": 46,
   "id": "db28d0ef-cb15-4bea-a1b1-3ea029468dae",
   "metadata": {},
   "outputs": [
    {
     "data": {
      "text/plain": [
       "34"
      ]
     },
     "execution_count": 46,
     "metadata": {},
     "output_type": "execute_result"
    }
   ],
   "source": [
    "80 - 46"
   ]
  },
  {
   "cell_type": "code",
   "execution_count": 44,
   "id": "9df5d71c-6593-47eb-89e2-2fe487f81f3e",
   "metadata": {},
   "outputs": [
    {
     "data": {
      "text/plain": [
       "34"
      ]
     },
     "execution_count": 44,
     "metadata": {},
     "output_type": "execute_result"
    }
   ],
   "source": [
    "114 - 80"
   ]
  },
  {
   "cell_type": "code",
   "execution_count": 83,
   "id": "6663afe0-fd09-448e-8aa6-d13a4110bc82",
   "metadata": {},
   "outputs": [],
   "source": [
    "pixels = neopixel.NeoPixel(PIN, TOTAL_NUM_LIGHTS)\n",
    "pixels.fill((0, 0, 0))\n"
   ]
  },
  {
   "cell_type": "code",
   "execution_count": 115,
   "id": "c143da71-73fd-43bb-a78f-9d4b04a3137d",
   "metadata": {},
   "outputs": [],
   "source": [
    "pixels[0] = (0, 0, 0)\n",
    "pixels[1] = (0, 0, 0)\n",
    "pixels[2] = (255, 0, 3)"
   ]
  },
  {
   "cell_type": "code",
   "execution_count": 122,
   "id": "12e02003-c615-4f4e-91dc-d857a75f5556",
   "metadata": {},
   "outputs": [
    {
     "name": "stdout",
     "output_type": "stream",
     "text": [
      "0.0,0.473,0.946,1.419,1.892,2.3649999999999998,2.838,3.311,3.784,4.257,4.7299999999999995,5.202999999999999,5.676,6.149,6.622,7.095,7.568,8.041,8.514,8.987,9.459999999999999,9.933,10.405999999999999,10.879,11.352,11.825,12.298,12.770999999999999,13.244,13.716999999999999,14.19,14.662999999999998,15.136,15.609,16.082,16.555,17.028,17.500999999999998,17.974,18.447,18.919999999999998,19.393,19.866,20.339,20.811999999999998,21.285,21.758,22.230999999999998,22.704,23.177,23.65,24.122999999999998,24.596,25.069,25.541999999999998,26.014999999999997,26.488,26.961,27.433999999999997,27.907,28.38,28.852999999999998,29.325999999999997,29.799,30.272,30.744999999999997,31.218,31.691,32.164,32.637,33.11,33.583,34.056,34.528999999999996,35.001999999999995,35.475,35.948,36.421,36.894,37.367,37.839999999999996,38.312999999999995,38.786,39.259,39.732,40.205,40.678,41.150999999999996,41.623999999999995,42.097,42.57,43.043,43.516,43.989,44.461999999999996,44.934999999999995,45.408,45.881,46.354,46.827,47.3,"
     ]
    }
   ],
   "source": [
    "for i in range(101):\n",
    "    print(i * 0.473, end=\",\", flush=True)\n",
    "    sleep(0.01)"
   ]
  },
  {
   "cell_type": "code",
   "execution_count": 117,
   "id": "ea47a2b6-9313-4b51-8937-ea062340d97a",
   "metadata": {},
   "outputs": [
    {
     "name": "stdout",
     "output_type": "stream",
     "text": [
      "Hello Max!\n"
     ]
    }
   ],
   "source": [
    "print(\"Hello Max!\")"
   ]
  },
  {
   "cell_type": "code",
   "execution_count": null,
   "id": "239361b2-02e2-4166-92bc-f48571ec534e",
   "metadata": {},
   "outputs": [],
   "source": []
  }
 ],
 "metadata": {
  "kernelspec": {
   "display_name": "Python 3 (ipykernel)",
   "language": "python",
   "name": "python3"
  },
  "language_info": {
   "codemirror_mode": {
    "name": "ipython",
    "version": 3
   },
   "file_extension": ".py",
   "mimetype": "text/x-python",
   "name": "python",
   "nbconvert_exporter": "python",
   "pygments_lexer": "ipython3",
   "version": "3.10.12"
  }
 },
 "nbformat": 4,
 "nbformat_minor": 5
}
