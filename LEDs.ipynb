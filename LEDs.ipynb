{
 "cells": [
  {
   "cell_type": "code",
   "execution_count": 10,
   "id": "667661f0-5f1e-45fe-beb1-e4c03a624ccd",
   "metadata": {},
   "outputs": [],
   "source": [
    "import board\n",
    "import neopixel\n",
    "from time import sleep"
   ]
  },
  {
   "cell_type": "code",
   "execution_count": 224,
   "id": "b1f376e7-57dd-439b-9c13-32653615820d",
   "metadata": {},
   "outputs": [],
   "source": [
    "TOTAL_NUM_LIGHTS = 150\n",
    "PIN = board.D18\n",
    "\n",
    "ARROW_START = 45\n",
    "ARROW_HEAD_MIDDLE = 80\n",
    "ARROW_END = 113\n",
    "\n",
    "# Initialise pixels\n",
    "pixels = neopixel.NeoPixel(PIN, TOTAL_NUM_LIGHTS, auto_write=False)\n",
    "pixels.fill((0, 0, 0))\n",
    "pixels.show()\n",
    "\n",
    "# Handy functions\n",
    "def fill_between(pixels, colour, start=ARROW_START, end=ARROW_END+1):\n",
    "    for position in range(start, end):\n",
    "        pixels[position] = colour"
   ]
  },
  {
   "cell_type": "code",
   "execution_count": 230,
   "id": "7f0cd769-1f6f-44ad-8245-a9a0d74ff846",
   "metadata": {},
   "outputs": [],
   "source": [
    "def up_and_down():\n",
    "    MAX_BRIGHTNESS = 150    \n",
    "    for repeat in range(1):\n",
    "        for direction in [range(MAX_BRIGHTNESS), range(MAX_BRIGHTNESS, 0, -1)]:\n",
    "            for i in direction:\n",
    "                colour = (i, i * 0.1, 0)\n",
    "                fill_between(pixels, colour)\n",
    "                pixels.show()\n",
    "\n",
    "up_and_down()"
   ]
  },
  {
   "cell_type": "code",
   "execution_count": 282,
   "id": "ad226c73-0940-4a16-af58-20e6ea66257c",
   "metadata": {},
   "outputs": [],
   "source": [
    "def animate_arrow():\n",
    "    arrow_length = ARROW_HEAD_MIDDLE - ARROW_START\n",
    "    for position in range(arrow_length):\n",
    "        fill_between(pixels, (10, 2, 0))\n",
    "\n",
    "        STEP = 10\n",
    "        for repeat in range(1):\n",
    "            offset = STEP * repeat\n",
    "            \n",
    "            # Light moving forwards:\n",
    "            forwards_pos = ARROW_START + position + offset\n",
    "            if forwards_pos < ARROW_HEAD_MIDDLE:\n",
    "                pixels[forwards_pos] = (255, 0, 0)\n",
    "    \n",
    "            # Light moving \"backwards\":\n",
    "            backwards_pos = ARROW_END - position - offset\n",
    "            if backwards_pos > ARROW_HEAD_MIDDLE:\n",
    "                pixels[backwards_pos] = (255, 0, 0)\n",
    "        \n",
    "        pixels.show()\n",
    "        sleep(0.05)\n",
    "\n",
    "animate_arrow()"
   ]
  },
  {
   "cell_type": "code",
   "execution_count": 292,
   "id": "f078b7ba-f06b-40fe-9230-da8902f6f64e",
   "metadata": {},
   "outputs": [],
   "source": [
    "def strobe(delay=0.01):\n",
    "    for _ in range(20):\n",
    "        fill_between(pixels, (20, 4, 0))\n",
    "        pixels.show()\n",
    "        sleep(delay)\n",
    "        fill_between(pixels, (0, 0, 0))\n",
    "        pixels.show()\n",
    "        sleep(delay)\n",
    "\n",
    "strobe()"
   ]
  },
  {
   "cell_type": "code",
   "execution_count": null,
   "id": "4a540345-6247-49fd-911b-e0cbc00f7761",
   "metadata": {},
   "outputs": [],
   "source": [
    "while True:\n",
    "    up_and_down()\n",
    "    animate_arrow()\n",
    "    strobe()"
   ]
  },
  {
   "cell_type": "code",
   "execution_count": null,
   "id": "c2cb4b06-9abf-4543-98c0-9621d8fa13dd",
   "metadata": {},
   "outputs": [],
   "source": []
  }
 ],
 "metadata": {
  "kernelspec": {
   "display_name": "Python 3 (ipykernel)",
   "language": "python",
   "name": "python3"
  },
  "language_info": {
   "codemirror_mode": {
    "name": "ipython",
    "version": 3
   },
   "file_extension": ".py",
   "mimetype": "text/x-python",
   "name": "python",
   "nbconvert_exporter": "python",
   "pygments_lexer": "ipython3",
   "version": "3.10.12"
  }
 },
 "nbformat": 4,
 "nbformat_minor": 5
}
