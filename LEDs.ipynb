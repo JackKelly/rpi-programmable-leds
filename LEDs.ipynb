{
 "cells": [
  {
   "cell_type": "code",
   "execution_count": 10,
   "id": "667661f0-5f1e-45fe-beb1-e4c03a624ccd",
   "metadata": {},
   "outputs": [],
   "source": [
    "import board\n",
    "import neopixel\n",
    "from time import sleep"
   ]
  },
  {
   "cell_type": "code",
   "execution_count": 7,
   "id": "b1f376e7-57dd-439b-9c13-32653615820d",
   "metadata": {},
   "outputs": [],
   "source": [
    "TOTAL_NUM_LIGHTS = 150\n",
    "PIN = board.D18"
   ]
  },
  {
   "cell_type": "code",
   "execution_count": 157,
   "id": "7f0cd769-1f6f-44ad-8245-a9a0d74ff846",
   "metadata": {},
   "outputs": [],
   "source": [
    "def up_and_down():\n",
    "    # Initialisation:\n",
    "    pixels = neopixel.NeoPixel(PIN, TOTAL_NUM_LIGHTS)\n",
    "    pixels.fill((0, 0, 0))\n",
    "\n",
    "    # Loop:\n",
    "    MAX_BRIGHTNESS = 150    \n",
    "    for repeat in range(1):\n",
    "        for direction in [range(MAX_BRIGHTNESS), range(MAX_BRIGHTNESS, 0, -1)]:\n",
    "            for i in direction:\n",
    "                colour = (i, 0, 0)\n",
    "                pixels.fill(colour)\n",
    "\n",
    "    # Tidy ending:\n",
    "    pixels.fill((0, 0, 0))\n",
    "\n",
    "up_and_down()"
   ]
  },
  {
   "cell_type": "code",
   "execution_count": null,
   "id": "ad226c73-0940-4a16-af58-20e6ea66257c",
   "metadata": {},
   "outputs": [],
   "source": [
    "def animate_arrow():\n",
    "    # Initialisation:\n",
    "    pixels = neopixel.NeoPixel(PIN, TOTAL_NUM_LIGHTS, auto_write=False)\n",
    "    pixels.fill((0, 0, 0))\n",
    "    pixels.show()\n",
    "\n",
    "    ARROW_START = 45\n",
    "    ARROW_HEAD_MIDDLE = 80\n",
    "    ARROW_END = 113\n",
    "\n",
    "    arrow_length = ARROW_HEAD_MIDDLE - ARROW_START\n",
    "    for position in range(arrow_length):\n",
    "        pixels.fill((0, 0, 0))\n",
    "            \n",
    "        # Light moving forwards:\n",
    "        pixels[ARROW_START + position] = (255, 0, 0)\n",
    "\n",
    "        # Light moving \"backwards\":\n",
    "        pixels[ARROW_END - position] = (100 ,10 ,0)\n",
    "        \n",
    "        pixels.show()\n",
    "        sleep(0.05)\n",
    "\n",
    "for _ in range(5):\n",
    "    animate_arrow()"
   ]
  },
  {
   "cell_type": "code",
   "execution_count": null,
   "id": "4a540345-6247-49fd-911b-e0cbc00f7761",
   "metadata": {},
   "outputs": [],
   "source": [
    "for _ in range(5):\n",
    "    up_and_down()\n",
    "    animate_arrow()"
   ]
  }
 ],
 "metadata": {
  "kernelspec": {
   "display_name": "Python 3 (ipykernel)",
   "language": "python",
   "name": "python3"
  },
  "language_info": {
   "codemirror_mode": {
    "name": "ipython",
    "version": 3
   },
   "file_extension": ".py",
   "mimetype": "text/x-python",
   "name": "python",
   "nbconvert_exporter": "python",
   "pygments_lexer": "ipython3",
   "version": "3.10.12"
  }
 },
 "nbformat": 4,
 "nbformat_minor": 5
}
